{
 "cells": [
  {
   "cell_type": "markdown",
   "id": "05fb2a62",
   "metadata": {},
   "source": [
    "# Graph Generation\n",
    "This notebook outlines how to use the Urbanity python package to generate heterogeneous city graph objects. "
   ]
  },
  {
   "cell_type": "markdown",
   "id": "bf0c432e",
   "metadata": {},
   "source": [
    "### Import Libraries"
   ]
  },
  {
   "cell_type": "code",
   "execution_count": 13,
   "id": "a4aa71af-8383-49bf-bd84-dbf7cda07220",
   "metadata": {},
   "outputs": [
    {
     "name": "stdout",
     "output_type": "stream",
     "text": [
      "CUDA is available: False\n"
     ]
    }
   ],
   "source": [
    "import random\n",
    "import torch\n",
    "import re\n",
    "import ast\n",
    "\n",
    "import urbanity as urb\n",
    "from urbanity.utils import most_frequent\n",
    "from urbanity.geom import project_gdf\n",
    "from urbanity.utils import (get_building_to_building_edges,\n",
    "                            get_buildings_in_plot_edges,\n",
    "                             get_plot_to_plot_edges, \n",
    "                             get_building_to_street_edges,\n",
    "                               get_edges_along_plot,\n",
    "                               get_edge_nodes,\n",
    "                               get_intersection_to_street_edges)\n",
    "\n",
    "import geopandas as gpd\n",
    "import matplotlib.pyplot as plt\n",
    "import numpy as np\n",
    "import pandas as pd\n",
    "from urbanity.population import raster2gdf\n",
    "\n",
    "print(f'CUDA is available: {torch.cuda.is_available()}')"
   ]
  },
  {
   "cell_type": "markdown",
   "id": "abd96a8f",
   "metadata": {},
   "source": [
    "### Generate Urban Graph with Urbanity"
   ]
  },
  {
   "cell_type": "code",
   "execution_count": 4,
   "id": "4f033889",
   "metadata": {},
   "outputs": [],
   "source": [
    "# Load demo area in Seattle\n",
    "seattle_squire = gpd.read_parquet('../data/Seattle_Squire_Park.parquet')"
   ]
  },
  {
   "cell_type": "code",
   "execution_count": 5,
   "id": "d339deac-392f-4892-aa22-e256239e21aa",
   "metadata": {
    "tags": []
   },
   "outputs": [],
   "source": [
    "# Create a Map object and specify shapefile\n",
    "m1 = urb.Map('United States')\n",
    "m1.polygon_bounds = seattle_squire"
   ]
  },
  {
   "cell_type": "code",
   "execution_count": null,
   "id": "a5786260-c4c5-4935-bfaf-81a27645791b",
   "metadata": {},
   "outputs": [],
   "source": [
    "seattle_buildings = m1.get_building_nodes('Seattle')"
   ]
  },
  {
   "cell_type": "code",
   "execution_count": 10,
   "id": "23e6e364",
   "metadata": {},
   "outputs": [],
   "source": [
    "building_urban_analytics_indicators = [\n",
    " 'bid',\n",
    " 'building_area',\n",
    " 'building_centroid',\n",
    " 'building_perimeter',\n",
    " '3-nn-idx',\n",
    " '3-dist',\n",
    " '3-nn-threshold',\n",
    " '5-nn-idx',\n",
    " '5-dist',\n",
    " '5-nn-threshold',\n",
    " '8-nn-idx',\n",
    " '8-dist',\n",
    " '8-nn-threshold',\n",
    " '10-nn-idx',\n",
    " '10-dist',\n",
    " '10-nn-threshold',\n",
    " 'building_circ_compact',\n",
    " 'building_convexity',\n",
    " 'building_corners',\n",
    " 'building_elongation',\n",
    " 'building_orientation',\n",
    " 'building_longest_axis_length',\n",
    " 'building_eri',\n",
    " 'building_fractaldim',\n",
    " 'building_rectangularity',\n",
    " 'building_square_compactness',\n",
    " 'building_shape_idx',\n",
    " 'building_squareness',\n",
    " 'building_complexity',\n",
    " '3-nn-idx_building_area_mean',\n",
    " '3-nn-idx_building_area_stdev',\n",
    " '5-nn-idx_building_area_mean',\n",
    " '5-nn-idx_building_area_stdev',\n",
    " '8-nn-idx_building_area_mean',\n",
    " '8-nn-idx_building_area_stdev',\n",
    " '10-nn-idx_building_area_mean',\n",
    " '10-nn-idx_building_area_stdev',\n",
    " '3-nn-idx_building_perimeter_mean',\n",
    " '3-nn-idx_building_perimeter_stdev',\n",
    " '5-nn-idx_building_perimeter_mean',\n",
    " '5-nn-idx_building_perimeter_stdev',\n",
    " '8-nn-idx_building_perimeter_mean',\n",
    " '8-nn-idx_building_perimeter_stdev',\n",
    " '10-nn-idx_building_perimeter_mean',\n",
    " '10-nn-idx_building_perimeter_stdev',\n",
    " '3-nn-idx_building_circ_compact_mean',\n",
    " '3-nn-idx_building_circ_compact_stdev',\n",
    " '5-nn-idx_building_circ_compact_mean',\n",
    " '5-nn-idx_building_circ_compact_stdev',\n",
    " '8-nn-idx_building_circ_compact_mean',\n",
    " '8-nn-idx_building_circ_compact_stdev',\n",
    " '10-nn-idx_building_circ_compact_mean',\n",
    " '10-nn-idx_building_circ_compact_stdev',\n",
    " '3-nn-idx_building_convexity_mean',\n",
    " '3-nn-idx_building_convexity_stdev',\n",
    " '5-nn-idx_building_convexity_mean',\n",
    " '5-nn-idx_building_convexity_stdev',\n",
    " '8-nn-idx_building_convexity_mean',\n",
    " '8-nn-idx_building_convexity_stdev',\n",
    " '10-nn-idx_building_convexity_mean',\n",
    " '10-nn-idx_building_convexity_stdev',\n",
    " '3-nn-idx_building_corners_mean',\n",
    " '3-nn-idx_building_corners_stdev',\n",
    " '5-nn-idx_building_corners_mean',\n",
    " '5-nn-idx_building_corners_stdev',\n",
    " '8-nn-idx_building_corners_mean',\n",
    " '8-nn-idx_building_corners_stdev',\n",
    " '10-nn-idx_building_corners_mean',\n",
    " '10-nn-idx_building_corners_stdev',\n",
    " '3-nn-idx_building_elongation_mean',\n",
    " '3-nn-idx_building_elongation_stdev',\n",
    " '5-nn-idx_building_elongation_mean',\n",
    " '5-nn-idx_building_elongation_stdev',\n",
    " '8-nn-idx_building_elongation_mean',\n",
    " '8-nn-idx_building_elongation_stdev',\n",
    " '10-nn-idx_building_elongation_mean',\n",
    " '10-nn-idx_building_elongation_stdev',\n",
    " '3-nn-idx_building_orientation_mean',\n",
    " '3-nn-idx_building_orientation_stdev',\n",
    " '5-nn-idx_building_orientation_mean',\n",
    " '5-nn-idx_building_orientation_stdev',\n",
    " '8-nn-idx_building_orientation_mean',\n",
    " '8-nn-idx_building_orientation_stdev',\n",
    " '10-nn-idx_building_orientation_mean',\n",
    " '10-nn-idx_building_orientation_stdev',\n",
    " '3-nn-idx_building_longest_axis_length_mean',\n",
    " '3-nn-idx_building_longest_axis_length_stdev',\n",
    " '5-nn-idx_building_longest_axis_length_mean',\n",
    " '5-nn-idx_building_longest_axis_length_stdev',\n",
    " '8-nn-idx_building_longest_axis_length_mean',\n",
    " '8-nn-idx_building_longest_axis_length_stdev',\n",
    " '10-nn-idx_building_longest_axis_length_mean',\n",
    " '10-nn-idx_building_longest_axis_length_stdev',\n",
    " '3-nn-idx_building_eri_mean',\n",
    " '3-nn-idx_building_eri_stdev',\n",
    " '5-nn-idx_building_eri_mean',\n",
    " '5-nn-idx_building_eri_stdev',\n",
    " '8-nn-idx_building_eri_mean',\n",
    " '8-nn-idx_building_eri_stdev',\n",
    " '10-nn-idx_building_eri_mean',\n",
    " '10-nn-idx_building_eri_stdev',\n",
    " '3-nn-idx_building_fractaldim_mean',\n",
    " '3-nn-idx_building_fractaldim_stdev',\n",
    " '5-nn-idx_building_fractaldim_mean',\n",
    " '5-nn-idx_building_fractaldim_stdev',\n",
    " '8-nn-idx_building_fractaldim_mean',\n",
    " '8-nn-idx_building_fractaldim_stdev',\n",
    " '10-nn-idx_building_fractaldim_mean',\n",
    " '10-nn-idx_building_fractaldim_stdev',\n",
    " '3-nn-idx_building_rectangularity_mean',\n",
    " '3-nn-idx_building_rectangularity_stdev',\n",
    " '5-nn-idx_building_rectangularity_mean',\n",
    " '5-nn-idx_building_rectangularity_stdev',\n",
    " '8-nn-idx_building_rectangularity_mean',\n",
    " '8-nn-idx_building_rectangularity_stdev',\n",
    " '10-nn-idx_building_rectangularity_mean',\n",
    " '10-nn-idx_building_rectangularity_stdev',\n",
    " '3-nn-idx_building_squareness_mean',\n",
    " '3-nn-idx_building_squareness_stdev',\n",
    " '5-nn-idx_building_squareness_mean',\n",
    " '5-nn-idx_building_squareness_stdev',\n",
    " '8-nn-idx_building_squareness_mean',\n",
    " '8-nn-idx_building_squareness_stdev',\n",
    " '10-nn-idx_building_squareness_mean',\n",
    " '10-nn-idx_building_squareness_stdev',\n",
    " '3-nn-idx_building_square_compactness_mean',\n",
    " '3-nn-idx_building_square_compactness_stdev',\n",
    " '5-nn-idx_building_square_compactness_mean',\n",
    " '5-nn-idx_building_square_compactness_stdev',\n",
    " '8-nn-idx_building_square_compactness_mean',\n",
    " '8-nn-idx_building_square_compactness_stdev',\n",
    " '10-nn-idx_building_square_compactness_mean',\n",
    " '10-nn-idx_building_square_compactness_stdev',\n",
    " '3-nn-idx_building_shape_idx_mean',\n",
    " '3-nn-idx_building_shape_idx_stdev',\n",
    " '5-nn-idx_building_shape_idx_mean',\n",
    " '5-nn-idx_building_shape_idx_stdev',\n",
    " '8-nn-idx_building_shape_idx_mean',\n",
    " '8-nn-idx_building_shape_idx_stdev',\n",
    " '10-nn-idx_building_shape_idx_mean',\n",
    " '10-nn-idx_building_shape_idx_stdev',\n",
    " '3-nn-idx_building_complexity_mean',\n",
    " '3-nn-idx_building_complexity_stdev',\n",
    " '5-nn-idx_building_complexity_mean',\n",
    " '5-nn-idx_building_complexity_stdev',\n",
    " '8-nn-idx_building_complexity_mean',\n",
    " '8-nn-idx_building_complexity_stdev',\n",
    " '10-nn-idx_building_complexity_mean',\n",
    " '10-nn-idx_building_complexity_stdev',\n",
    " 'geometry']\n",
    "\n",
    "# Subset building indicators\n",
    "seattle_buildings = seattle_buildings[building_urban_analytics_indicators]\n",
    "\n",
    "# Project to global coordinates\n",
    "seattle_buildings = seattle_buildings.to_crs('epsg:4326')"
   ]
  },
  {
   "cell_type": "code",
   "execution_count": null,
   "id": "a18c5f29",
   "metadata": {},
   "outputs": [],
   "source": [
    "# Display buildings\n",
    "seattle_buildings.plot()"
   ]
  },
  {
   "cell_type": "markdown",
   "id": "603588be-62f1-4b2d-bb20-1613ef417955",
   "metadata": {},
   "source": [
    "### Process Building Dataframe"
   ]
  },
  {
   "cell_type": "code",
   "execution_count": 13,
   "id": "d6ea6eda-709a-44fe-9119-0dbf6d676be1",
   "metadata": {},
   "outputs": [],
   "source": [
    "# Save building features\n",
    "seattle_buildings['3-nn-idx'] = seattle_buildings['3-nn-idx'].apply(lambda x: str(x))\n",
    "seattle_buildings['5-nn-idx'] = seattle_buildings['5-nn-idx'].apply(lambda x: str(x))\n",
    "seattle_buildings['8-nn-idx'] = seattle_buildings['8-nn-idx'].apply(lambda x: str(x))\n",
    "seattle_buildings['10-nn-idx'] = seattle_buildings['10-nn-idx'].apply(lambda x: str(x))\n",
    "seattle_buildings['3-dist'] = seattle_buildings['3-dist'].apply(lambda x: str(x))\n",
    "seattle_buildings['5-dist'] = seattle_buildings['5-dist'].apply(lambda x: str(x))\n",
    "seattle_buildings['8-dist'] = seattle_buildings['8-dist'].apply(lambda x: str(x))\n",
    "seattle_buildings['10-dist'] = seattle_buildings['10-dist'].apply(lambda x: str(x))\n",
    "seattle_buildings['3-nn-threshold'] = seattle_buildings['3-nn-threshold'].apply(lambda x: str(x))\n",
    "seattle_buildings['5-nn-threshold'] = seattle_buildings['5-nn-threshold'].apply(lambda x: str(x))\n",
    "seattle_buildings['8-nn-threshold'] = seattle_buildings['8-nn-threshold'].apply(lambda x: str(x))\n",
    "seattle_buildings['10-nn-threshold'] = seattle_buildings['10-nn-threshold'].apply(lambda x: str(x))\n",
    "seattle_buildings.drop('building_centroid', axis='columns', inplace=True)"
   ]
  },
  {
   "cell_type": "code",
   "execution_count": 15,
   "id": "a1f8c76e-0a97-4e45-a80a-70c8e1c80c2b",
   "metadata": {},
   "outputs": [],
   "source": [
    "# Remove white space\n",
    "seattle_buildings['3-nn-idx'] = seattle_buildings['3-nn-idx'].apply(lambda s: list(ast.literal_eval(re.sub(\"\\s+\", r\",\", s[1:-1].lstrip()))))"
   ]
  },
  {
   "cell_type": "code",
   "execution_count": 19,
   "id": "9de85427-226d-42c2-a471-aee288e6d7cc",
   "metadata": {},
   "outputs": [],
   "source": [
    "# Get building edges and save adjacency\n",
    "building_to_building_edges, _  = get_building_to_building_edges(seattle_buildings, '3-nn-idx')\n",
    "np.savetxt('../data/demo_building_to_building_edges.txt', building_to_building_edges, fmt='%d')"
   ]
  },
  {
   "cell_type": "code",
   "execution_count": 55,
   "id": "357f30be",
   "metadata": {},
   "outputs": [],
   "source": [
    "# Save building nodes\n",
    "seattle_buildings.to_parquet('../data/demo_seattle_buildings.parquet')"
   ]
  },
  {
   "cell_type": "markdown",
   "id": "9e4addd4-1dfd-4083-b9a9-fed89ffc4e21",
   "metadata": {},
   "source": [
    "### Get urban plots"
   ]
  },
  {
   "cell_type": "code",
   "execution_count": null,
   "id": "c58b7471-1bcc-4d8c-bbbd-4cb0c4e0af00",
   "metadata": {},
   "outputs": [],
   "source": [
    "urban_plots = m1.get_urban_plot_nodes('Seattle')"
   ]
  },
  {
   "cell_type": "code",
   "execution_count": null,
   "id": "d159d291",
   "metadata": {},
   "outputs": [],
   "source": [
    "# Show urban plots\n",
    "urban_plots.plot(column='plot_id')"
   ]
  },
  {
   "cell_type": "markdown",
   "id": "c14e0135-7a61-4426-ae7b-c1c100264bfe",
   "metadata": {},
   "source": [
    "### Manually add local climate zone"
   ]
  },
  {
   "cell_type": "code",
   "execution_count": null,
   "id": "d529a710-67a2-40dd-8370-b050243a0f5e",
   "metadata": {},
   "outputs": [],
   "source": [
    "lcz_gdf = raster2gdf('../seattle_files/LCZ_raster/Global_LCZ.tif', boundary=seattle_squire, zoom=True)\n",
    "lcz_gdf.plot(column='value')"
   ]
  },
  {
   "cell_type": "code",
   "execution_count": 42,
   "id": "57be09af-acad-4c87-b888-6fee0824e598",
   "metadata": {},
   "outputs": [],
   "source": [
    "# Assign LCZ label to plot based on mode count\n",
    "out = lcz_gdf.overlay(urban_plots)\n",
    "mode_series = out.groupby('plot_id')['value'].aggregate(lambda x: most_frequent(list(x)))\n",
    "mode_series.name = 'plot_lcz'\n",
    "urban_plots = urban_plots.merge(mode_series, on='plot_id', how='left')\n",
    "\n",
    "urban_plots['plot_id'] = urban_plots.index"
   ]
  },
  {
   "cell_type": "markdown",
   "id": "8a04494b-fc1c-48f0-b8c2-61cfc45d2f6d",
   "metadata": {},
   "source": [
    "### Get building in plot edges, plot to plot edges, and building to street edges"
   ]
  },
  {
   "cell_type": "code",
   "execution_count": 49,
   "id": "386d59ce-c06d-4f94-b172-6e4ed6550194",
   "metadata": {},
   "outputs": [],
   "source": [
    "# Obtain plot to street edges\n",
    "plot_to_street_edges, _ = get_edges_along_plot(urban_plots, adj_column = 'edge_ids')\n",
    "np.savetxt('../data/demo_plot_to_street_edges.txt', plot_to_street_edges, fmt='%d')\n",
    "\n",
    "# Obtain building to plot edges\n",
    "building_to_plot_edges, _ = get_buildings_in_plot_edges(urban_plots, adj_column = 'building_ids')\n",
    "np.savetxt('../data/demo_building_to_plot_edges.txt', building_to_plot_edges, fmt='%d')\n",
    "\n",
    "# Obtain plot to plot edges\n",
    "plot_to_plot_edges, _ = get_plot_to_plot_edges(urban_plots)\n",
    "np.savetxt('../data/demo_plot_to_plot_edges.txt', plot_to_plot_edges, fmt='%d')"
   ]
  },
  {
   "cell_type": "code",
   "execution_count": 54,
   "id": "ed0aec97-ca5b-4904-973a-840c747584f9",
   "metadata": {},
   "outputs": [],
   "source": [
    "urban_plots = urban_plots.drop(columns = ['edge_ids', 'building_ids'], axis=1)\n",
    "urban_plots.to_parquet('../data/demo_seattle_plots.parquet')"
   ]
  },
  {
   "cell_type": "markdown",
   "id": "708cc1fd-dc10-458c-947e-3a1cc4fbecdb",
   "metadata": {},
   "source": [
    "### Get building to street edges"
   ]
  },
  {
   "cell_type": "code",
   "execution_count": 3,
   "id": "d675b189-a450-49b1-bb30-3b12ae040666",
   "metadata": {},
   "outputs": [
    {
     "name": "stdout",
     "output_type": "stream",
     "text": [
      "Network data found, skipping re-computation\n",
      "Topologic/metric attributes computed. Time taken: 1.\n",
      "SVI data found, skipping re-computation.\n",
      "SVI attributes computed. Time taken: 2.\n",
      "Total elapsed time --- 2 seconds ---\n"
     ]
    }
   ],
   "source": [
    "network_graph, intersections, streets = m1.get_street_network('Seattle', svi_attr=True, edge_attr=True)"
   ]
  },
  {
   "cell_type": "code",
   "execution_count": 6,
   "id": "097b12a9-d3dd-45c9-8f5f-131eb7282649",
   "metadata": {},
   "outputs": [],
   "source": [
    "# Save street and intersection nodes\n",
    "streets.to_parquet('../data/demo_seattle_streets.parquet')\n",
    "intersections.to_parquet('../data/demo_seattle_intersections.parquet')"
   ]
  },
  {
   "cell_type": "code",
   "execution_count": 10,
   "id": "b8855ef0-4460-4d69-a525-ca30c0b832b2",
   "metadata": {},
   "outputs": [],
   "source": [
    "buildings = gpd.read_parquet('../data/demo_seattle_buildings.parquet')"
   ]
  },
  {
   "cell_type": "code",
   "execution_count": 19,
   "id": "bb4befaf-11cd-41a7-85d3-31c7e4e07df2",
   "metadata": {},
   "outputs": [],
   "source": [
    "# For each building (centroid), we want the nearest street representation. \n",
    "from urbanity.utils import get_building_to_street_edges\n",
    "street_to_building_edges, _ = get_building_to_street_edges(streets,buildings)\n",
    "np.savetxt('../data/demo_street_to_building_edges.txt', street_to_building_edges, fmt='%d')"
   ]
  },
  {
   "cell_type": "markdown",
   "id": "e42e9e77-dd57-497b-912e-74dd4ef53222",
   "metadata": {},
   "source": [
    "### Get street to intersection edges"
   ]
  },
  {
   "cell_type": "code",
   "execution_count": 22,
   "id": "847ea30b-8d1a-4480-84b1-41506cbb5c56",
   "metadata": {},
   "outputs": [],
   "source": [
    "intersection_to_street_edges, _ = get_intersection_to_street_edges(intersections, streets)\n",
    "\n",
    "np.savetxt('../data/demo_intersection_to_street_edges.txt', intersection_to_street_edges, fmt='%d')"
   ]
  },
  {
   "cell_type": "markdown",
   "id": "dcb1dab5-c685-4c3f-a55f-cda6dbc9da16",
   "metadata": {},
   "source": [
    "### Link Building Energy Data"
   ]
  },
  {
   "cell_type": "code",
   "execution_count": 23,
   "id": "f4e818af-afea-44ed-8b3b-7cd0d6095433",
   "metadata": {},
   "outputs": [],
   "source": [
    "# Load processed seattle building energy data (https://data.seattle.gov/Built-Environment/2022-Building-Energy-Benchmarking/5sxi-iyiy/about_data)\n",
    "building_energy_df = pd.read_csv('../energy_data/building_energy_labels.csv')"
   ]
  },
  {
   "cell_type": "code",
   "execution_count": 32,
   "id": "fbbd2451",
   "metadata": {},
   "outputs": [],
   "source": [
    "# Find buildings with labels\n",
    "buildings_with_labels = buildings[buildings['bid'].isin(building_energy_df['bid'].values)]"
   ]
  },
  {
   "cell_type": "markdown",
   "id": "64e78b80-f40f-4137-bdc8-518e629b9491",
   "metadata": {},
   "source": [
    "### Create Open Data Train, Val, and Test Set"
   ]
  },
  {
   "cell_type": "code",
   "execution_count": 39,
   "id": "5a69d85a-baa1-4c6d-89cd-796aeac6cd2b",
   "metadata": {},
   "outputs": [],
   "source": [
    "# Set random seed\n",
    "torch.manual_seed(0)\n",
    "random.seed(0)\n",
    "np.random.seed(0)\n",
    "\n",
    "# Buildings with labels\n",
    "building_indices = buildings_with_labels.index\n",
    "\n",
    "# Random shuffle sequences\n",
    "np.random.shuffle(np.array(building_indices))\n",
    "\n",
    "# Split entries into train, val, test\n",
    "train_idx, val_idx, test_idx = building_indices[:int(0.7*len(building_indices))], \\\n",
    "                               building_indices[int(0.7*len(building_indices)):int(0.85*len(building_indices))], \\\n",
    "                               building_indices[int(0.85*len(building_indices)):]"
   ]
  },
  {
   "cell_type": "code",
   "execution_count": 42,
   "id": "475742e6",
   "metadata": {},
   "outputs": [],
   "source": [
    "index_to_bid = {k:v for k,v in zip(buildings_with_labels.index, buildings_with_labels['bid'])}"
   ]
  },
  {
   "cell_type": "code",
   "execution_count": 43,
   "id": "61a9fb20-d214-4a35-866c-14a3092e301d",
   "metadata": {},
   "outputs": [],
   "source": [
    "# Obtain bids array\n",
    "train_bids = [index_to_bid[i] for i in train_idx]\n",
    "val_bids = [index_to_bid[i] for i in val_idx]\n",
    "test_bids = [index_to_bid[i] for i in test_idx]"
   ]
  },
  {
   "cell_type": "code",
   "execution_count": 45,
   "id": "58eed291-a9a1-40f5-88fb-320ff9b9741e",
   "metadata": {},
   "outputs": [],
   "source": [
    "np.savetxt('../data/demo_train_idx', train_idx, fmt='%s')\n",
    "np.savetxt('../data/demo_val_idx', val_idx, fmt='%s')\n",
    "np.savetxt('../data/demo_test_idx', test_idx, fmt='%s')\n",
    "np.savetxt('../data/demo_train_bids', train_bids, fmt='%s')\n",
    "np.savetxt('../data/demo_val_bids', val_bids, fmt='%s')\n",
    "np.savetxt('../data/demo_test_bids', test_bids, fmt='%s')"
   ]
  }
 ],
 "metadata": {
  "kernelspec": {
   "display_name": "carbon_demo",
   "language": "python",
   "name": "python3"
  },
  "language_info": {
   "codemirror_mode": {
    "name": "ipython",
    "version": 3
   },
   "file_extension": ".py",
   "mimetype": "text/x-python",
   "name": "python",
   "nbconvert_exporter": "python",
   "pygments_lexer": "ipython3",
   "version": "3.9.0"
  }
 },
 "nbformat": 4,
 "nbformat_minor": 5
}
